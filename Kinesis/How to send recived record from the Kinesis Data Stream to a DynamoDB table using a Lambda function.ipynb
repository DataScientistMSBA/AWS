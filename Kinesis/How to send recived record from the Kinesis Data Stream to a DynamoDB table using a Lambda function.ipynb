{
 "cells": [
  {
   "attachments": {},
   "cell_type": "markdown",
   "metadata": {},
   "source": [
    "# Create a DynamoDB table:\n",
    "For instructions on how to create a DynamoDB table, go to my AWS repo and read the following file: DynamoDB/How to create a DynamoDB table.ipynb"
   ]
  },
  {
   "attachments": {},
   "cell_type": "markdown",
   "metadata": {},
   "source": [
    "# Create a Lambda function:\n"
   ]
  },
  {
   "cell_type": "code",
   "execution_count": null,
   "metadata": {},
   "outputs": [],
   "source": [
    "import base64\n",
    "import json\n",
    "##python lib for aws\n",
    "import boto3\n",
    "import datetime\n",
    "\n",
    "\n",
    "def lambda_handler(event, context):\n",
    "    \"\"\"\n",
    "    Receive a batch of events from Kinesis and insert into  DynamoDB table\n",
    "    \n",
    "    \"\"\"\n",
    "\n",
    "    try: \n",
    "        ##resource assigned from boto library\n",
    "        dynamo_db = boto3.resource('dynamodb')\n",
    "        ##dynamoDB table name\n",
    "        table = dynamo_db.Table('TestTable')\n",
    "        \n",
    "        for record in event[\"Records\"]:\n",
    "            decoded_data = base64.b64decode(record[\"kinesis\"][\"data\"]).decode(\"utf-8\")\n",
    "            print(decoded_data)\n",
    "            print(json.loads(decoded_data))\n",
    "            decoded_data_dic = json.loads(decoded_data)\n",
    "            with table.batch_writer() as batch_writer:\n",
    "                batch_writer.put_item(Item=decoded_data_dic)\n",
    "       \n",
    "    except Exception as e: \n",
    "        print(str(e))"
   ]
  }
 ],
 "metadata": {
  "language_info": {
   "name": "python"
  },
  "orig_nbformat": 4
 },
 "nbformat": 4,
 "nbformat_minor": 2
}
