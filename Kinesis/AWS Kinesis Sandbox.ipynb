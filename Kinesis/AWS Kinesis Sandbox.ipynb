{
 "cells": [
  {
   "cell_type": "markdown",
   "metadata": {
    "application/vnd.databricks.v1+cell": {
     "cellMetadata": {},
     "inputWidgets": {},
     "nuid": "b9bfccb2-247f-412e-9440-353677bbb343",
     "showTitle": false,
     "title": ""
    }
   },
   "source": [
    "# PreLoads"
   ]
  },
  {
   "cell_type": "code",
   "execution_count": 0,
   "metadata": {
    "application/vnd.databricks.v1+cell": {
     "cellMetadata": {},
     "inputWidgets": {},
     "nuid": "5ee7c5f9-042e-4adb-9777-f8e479707caf",
     "showTitle": false,
     "title": ""
    }
   },
   "outputs": [],
   "source": [
    "%run /KEB.TDS/Functions/PreLoads"
   ]
  },
  {
   "cell_type": "markdown",
   "metadata": {
    "application/vnd.databricks.v1+cell": {
     "cellMetadata": {},
     "inputWidgets": {},
     "nuid": "5853209e-9f6b-46dc-bd10-4ecadd239cd9",
     "showTitle": false,
     "title": ""
    }
   },
   "source": [
    "# Create Fake Records"
   ]
  },
  {
   "cell_type": "code",
   "execution_count": 0,
   "metadata": {
    "application/vnd.databricks.v1+cell": {
     "cellMetadata": {},
     "inputWidgets": {},
     "nuid": "3c51c316-5ffa-4b11-97b3-b4fddf881663",
     "showTitle": false,
     "title": ""
    }
   },
   "outputs": [],
   "source": [
    "import random\n",
    "import string\n",
    "\n",
    "def create_fake_contact_details():\n",
    "  \"\"\"Creates a dataframe with 10 records about fake contact details.\"\"\"\n",
    "  columns = [\"Name\", \"Email\", \"Phone Number\"]\n",
    "  data = []\n",
    "  for i in range(10):\n",
    "    name = ''.join(random.choice(string.ascii_lowercase) for _ in range(10))\n",
    "    email = name + '@example.com'\n",
    "    phone_number = '123-456-7890'\n",
    "    data.append([name, email, phone_number])\n",
    "  df = pd.DataFrame(data, columns=columns)\n",
    "  return df\n",
    "\n",
    "if __name__ == \"__main__\":\n",
    "  df = create_fake_contact_details()\n",
    "  print(df.to_string())"
   ]
  },
  {
   "cell_type": "markdown",
   "metadata": {
    "application/vnd.databricks.v1+cell": {
     "cellMetadata": {},
     "inputWidgets": {},
     "nuid": "a299f231-b6e0-4b7c-868c-3fc406ce3f77",
     "showTitle": false,
     "title": ""
    }
   },
   "source": [
    "# Send Records to Amazon Kinesis Data Stream\n",
    "Add **AmazonKinesisFullAccess** to User/Roles in IAM"
   ]
  },
  {
   "cell_type": "code",
   "execution_count": 0,
   "metadata": {
    "application/vnd.databricks.v1+cell": {
     "cellMetadata": {},
     "inputWidgets": {},
     "nuid": "a5469143-cd04-4944-9f82-e4d4a1e22b35",
     "showTitle": false,
     "title": ""
    }
   },
   "outputs": [],
   "source": [
    "import boto3\n",
    "import json\n",
    "import pandas as pd\n",
    "\n",
    "def send_records_to_kinesis(data_frame, stream_name, region):\n",
    "    # Create a Kinesis client\n",
    "    kinesis_client = boto3.client('kinesis', region_name=region)\n",
    "    \n",
    "    # Convert DataFrame to a list of records\n",
    "    records = data_frame.to_dict(orient='records')\n",
    "    \n",
    "    # Iterate over each record and send it to Kinesis\n",
    "    for record in records:\n",
    "        # Convert the record to JSON string\n",
    "        record_data = json.dumps(record)\n",
    "        \n",
    "        # Send the record to Kinesis\n",
    "        response = kinesis_client.put_record(\n",
    "            StreamName=stream_name,\n",
    "            Data=record_data,\n",
    "            PartitionKey=str(record['Name'])\n",
    "        )\n",
    "        \n",
    "        # Print the response from Kinesis (optional)\n",
    "        print(response)\n",
    "\n",
    "stream_name = 'Eloqua'\n",
    "region = 'us-east-1'\n",
    "\n",
    "send_records_to_kinesis(df, stream_name, region)\n"
   ]
  }
 ],
 "metadata": {
  "application/vnd.databricks.v1+notebook": {
   "dashboards": [],
   "language": "python",
   "notebookMetadata": {
    "pythonIndentUnit": 4
   },
   "notebookName": "AWS Kinesis Sandbox",
   "widgets": {}
  },
  "name": "AWS Kinesis Sandbox"
 },
 "nbformat": 4,
 "nbformat_minor": 0
}
