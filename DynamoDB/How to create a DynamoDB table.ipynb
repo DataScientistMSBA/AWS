# Create a DynamoDB table:
1. In AWS, go to the **DynamoDB** module and select **Create table**.
2. Enter a **Table name**.

![Alt text](image.png)

3. You will also need to enter a **Partition Key** which can be any key column from the data that is being processed through the Data Stream. Make sure to also select it's associated data type.

![image-3.png](attachment:image-3.png)

4. Change any other settings that you may need and select **Create table**.

For more details on how to create a DynamoDB, go to [YouTube: Create Amazon DynamoDB Table](https://www.youtube.com/watch?v=dOTUl2mZNVQ)

![image.png](attachment:image.png)
